{
 "cells": [
  {
   "cell_type": "code",
   "execution_count": 1,
   "id": "ff4f0fa1-e29d-4c72-b62b-ea7ccdaa6f9c",
   "metadata": {},
   "outputs": [
    {
     "data": {
      "text/html": [
       "<div>\n",
       "<style scoped>\n",
       "    .dataframe tbody tr th:only-of-type {\n",
       "        vertical-align: middle;\n",
       "    }\n",
       "\n",
       "    .dataframe tbody tr th {\n",
       "        vertical-align: top;\n",
       "    }\n",
       "\n",
       "    .dataframe thead th {\n",
       "        text-align: right;\n",
       "    }\n",
       "</style>\n",
       "<table border=\"1\" class=\"dataframe\">\n",
       "  <thead>\n",
       "    <tr style=\"text-align: right;\">\n",
       "      <th></th>\n",
       "      <th>TIMESTAMP</th>\n",
       "      <th>KP_GRAL</th>\n",
       "      <th>GSE_X</th>\n",
       "      <th>GSE_Y</th>\n",
       "      <th>GSE_Z</th>\n",
       "      <th>CUADRADO</th>\n",
       "      <th>RAW_4</th>\n",
       "      <th>RAW_5</th>\n",
       "      <th>RAW_6</th>\n",
       "      <th>RAW_7</th>\n",
       "      <th>...</th>\n",
       "      <th>RAW_15</th>\n",
       "      <th>RAW_16</th>\n",
       "      <th>RAW_17</th>\n",
       "      <th>RAW_18</th>\n",
       "      <th>RAW_19</th>\n",
       "      <th>RAW_20</th>\n",
       "      <th>RAW_21</th>\n",
       "      <th>RAW_22</th>\n",
       "      <th>RAW_23</th>\n",
       "      <th>RAW_24</th>\n",
       "    </tr>\n",
       "  </thead>\n",
       "  <tbody>\n",
       "    <tr>\n",
       "      <th>0</th>\n",
       "      <td>2018-06-19 13:20:00</td>\n",
       "      <td>1.0</td>\n",
       "      <td>-3.34036</td>\n",
       "      <td>0.898664</td>\n",
       "      <td>2.03659</td>\n",
       "      <td>4.014138</td>\n",
       "      <td>NaN</td>\n",
       "      <td>NaN</td>\n",
       "      <td>NaN</td>\n",
       "      <td>NaN</td>\n",
       "      <td>...</td>\n",
       "      <td>NaN</td>\n",
       "      <td>NaN</td>\n",
       "      <td>NaN</td>\n",
       "      <td>340.457</td>\n",
       "      <td>338.058</td>\n",
       "      <td>412.506</td>\n",
       "      <td>366.075</td>\n",
       "      <td>458.030</td>\n",
       "      <td>489.964</td>\n",
       "      <td>538.543</td>\n",
       "    </tr>\n",
       "    <tr>\n",
       "      <th>1</th>\n",
       "      <td>2018-06-19 13:21:00</td>\n",
       "      <td>1.0</td>\n",
       "      <td>-3.37082</td>\n",
       "      <td>0.875381</td>\n",
       "      <td>2.01067</td>\n",
       "      <td>4.021382</td>\n",
       "      <td>NaN</td>\n",
       "      <td>NaN</td>\n",
       "      <td>NaN</td>\n",
       "      <td>NaN</td>\n",
       "      <td>...</td>\n",
       "      <td>NaN</td>\n",
       "      <td>NaN</td>\n",
       "      <td>NaN</td>\n",
       "      <td>340.685</td>\n",
       "      <td>339.708</td>\n",
       "      <td>413.791</td>\n",
       "      <td>366.942</td>\n",
       "      <td>459.124</td>\n",
       "      <td>491.393</td>\n",
       "      <td>540.319</td>\n",
       "    </tr>\n",
       "    <tr>\n",
       "      <th>2</th>\n",
       "      <td>2018-06-19 13:22:00</td>\n",
       "      <td>1.0</td>\n",
       "      <td>-3.32255</td>\n",
       "      <td>0.826042</td>\n",
       "      <td>2.12320</td>\n",
       "      <td>4.028605</td>\n",
       "      <td>NaN</td>\n",
       "      <td>NaN</td>\n",
       "      <td>NaN</td>\n",
       "      <td>NaN</td>\n",
       "      <td>...</td>\n",
       "      <td>NaN</td>\n",
       "      <td>NaN</td>\n",
       "      <td>NaN</td>\n",
       "      <td>340.983</td>\n",
       "      <td>339.971</td>\n",
       "      <td>413.128</td>\n",
       "      <td>366.345</td>\n",
       "      <td>458.459</td>\n",
       "      <td>491.094</td>\n",
       "      <td>538.637</td>\n",
       "    </tr>\n",
       "    <tr>\n",
       "      <th>3</th>\n",
       "      <td>2018-06-19 13:23:00</td>\n",
       "      <td>1.0</td>\n",
       "      <td>-3.30950</td>\n",
       "      <td>0.918600</td>\n",
       "      <td>2.12130</td>\n",
       "      <td>4.036896</td>\n",
       "      <td>NaN</td>\n",
       "      <td>NaN</td>\n",
       "      <td>NaN</td>\n",
       "      <td>NaN</td>\n",
       "      <td>...</td>\n",
       "      <td>NaN</td>\n",
       "      <td>NaN</td>\n",
       "      <td>NaN</td>\n",
       "      <td>339.200</td>\n",
       "      <td>338.110</td>\n",
       "      <td>412.093</td>\n",
       "      <td>365.506</td>\n",
       "      <td>457.153</td>\n",
       "      <td>488.371</td>\n",
       "      <td>534.105</td>\n",
       "    </tr>\n",
       "    <tr>\n",
       "      <th>4</th>\n",
       "      <td>2018-06-19 13:24:00</td>\n",
       "      <td>1.0</td>\n",
       "      <td>-2.95364</td>\n",
       "      <td>1.510610</td>\n",
       "      <td>2.25690</td>\n",
       "      <td>4.012422</td>\n",
       "      <td>NaN</td>\n",
       "      <td>NaN</td>\n",
       "      <td>NaN</td>\n",
       "      <td>NaN</td>\n",
       "      <td>...</td>\n",
       "      <td>NaN</td>\n",
       "      <td>NaN</td>\n",
       "      <td>NaN</td>\n",
       "      <td>340.938</td>\n",
       "      <td>338.628</td>\n",
       "      <td>411.932</td>\n",
       "      <td>365.709</td>\n",
       "      <td>453.664</td>\n",
       "      <td>477.827</td>\n",
       "      <td>517.410</td>\n",
       "    </tr>\n",
       "  </tbody>\n",
       "</table>\n",
       "<p>5 rows × 27 columns</p>\n",
       "</div>"
      ],
      "text/plain": [
       "             TIMESTAMP  KP_GRAL    GSE_X     GSE_Y    GSE_Z  CUADRADO  RAW_4  \\\n",
       "0  2018-06-19 13:20:00      1.0 -3.34036  0.898664  2.03659  4.014138    NaN   \n",
       "1  2018-06-19 13:21:00      1.0 -3.37082  0.875381  2.01067  4.021382    NaN   \n",
       "2  2018-06-19 13:22:00      1.0 -3.32255  0.826042  2.12320  4.028605    NaN   \n",
       "3  2018-06-19 13:23:00      1.0 -3.30950  0.918600  2.12130  4.036896    NaN   \n",
       "4  2018-06-19 13:24:00      1.0 -2.95364  1.510610  2.25690  4.012422    NaN   \n",
       "\n",
       "   RAW_5  RAW_6  RAW_7  ...  RAW_15  RAW_16  RAW_17   RAW_18   RAW_19  \\\n",
       "0    NaN    NaN    NaN  ...     NaN     NaN     NaN  340.457  338.058   \n",
       "1    NaN    NaN    NaN  ...     NaN     NaN     NaN  340.685  339.708   \n",
       "2    NaN    NaN    NaN  ...     NaN     NaN     NaN  340.983  339.971   \n",
       "3    NaN    NaN    NaN  ...     NaN     NaN     NaN  339.200  338.110   \n",
       "4    NaN    NaN    NaN  ...     NaN     NaN     NaN  340.938  338.628   \n",
       "\n",
       "    RAW_20   RAW_21   RAW_22   RAW_23   RAW_24  \n",
       "0  412.506  366.075  458.030  489.964  538.543  \n",
       "1  413.791  366.942  459.124  491.393  540.319  \n",
       "2  413.128  366.345  458.459  491.094  538.637  \n",
       "3  412.093  365.506  457.153  488.371  534.105  \n",
       "4  411.932  365.709  453.664  477.827  517.410  \n",
       "\n",
       "[5 rows x 27 columns]"
      ]
     },
     "execution_count": 1,
     "metadata": {},
     "output_type": "execute_result"
    }
   ],
   "source": [
    "import pandas as pd\n",
    "\n",
    "# Load the dataset\n",
    "data = pd.read_csv('./BUCKET/DSCOVR_KP_PER_INTERVAL.csv')\n",
    "\n",
    "# Display the first few rows of the dataset\n",
    "data.head()"
   ]
  },
  {
   "cell_type": "code",
   "execution_count": 4,
   "id": "58986625-3949-4b25-809d-f987f9dac077",
   "metadata": {},
   "outputs": [
    {
     "data": {
      "text/plain": [
       "GSE_X         17442\n",
       "GSE_Y         17442\n",
       "GSE_Z         17442\n",
       "CUADRADO      17442\n",
       "RAW_4       1757636\n",
       "RAW_5       1695129\n",
       "RAW_6       1556408\n",
       "RAW_7       1467449\n",
       "RAW_8       1355341\n",
       "RAW_9       1268964\n",
       "RAW_10      1148804\n",
       "RAW_11      1053137\n",
       "RAW_12       921593\n",
       "RAW_13       853886\n",
       "RAW_14       732934\n",
       "RAW_15       682399\n",
       "RAW_16       623358\n",
       "RAW_17       554684\n",
       "RAW_18       506961\n",
       "RAW_19       472456\n",
       "RAW_20       425829\n",
       "RAW_21       425497\n",
       "RAW_22       434438\n",
       "RAW_23       521356\n",
       "RAW_24       573915\n",
       "dtype: int64"
      ]
     },
     "execution_count": 4,
     "metadata": {},
     "output_type": "execute_result"
    }
   ],
   "source": [
    "# Extract columns of interest\n",
    "input_columns = [\"GSE_X\", \"GSE_Y\", \"GSE_Z\", \"CUADRADO\"] + [col for col in data.columns if \"RAW_\" in col]\n",
    "target_columns = [\"KP_GRAL\"]\n",
    "\n",
    "# Extract data\n",
    "input_data = data[input_columns]\n",
    "target_data = data[target_columns]\n",
    "\n",
    "# Check for missing values in 'raw_*' columns\n",
    "missing_values = input_data.isnull().sum()\n",
    "\n",
    "missing_values"
   ]
  },
  {
   "cell_type": "code",
   "execution_count": 5,
   "id": "3d5deef5-9c5a-4431-aad6-817023097c98",
   "metadata": {},
   "outputs": [
    {
     "data": {
      "text/plain": [
       "((2621952, 13), (655488, 13), (2621952, 1), (655488, 1))"
      ]
     },
     "execution_count": 5,
     "metadata": {},
     "output_type": "execute_result"
    }
   ],
   "source": [
    "from sklearn.model_selection import train_test_split\n",
    "from sklearn.impute import SimpleImputer\n",
    "\n",
    "# Drop columns with more than 80% missing values\n",
    "threshold = 0.8 * len(input_data)\n",
    "input_data = input_data.dropna(axis=1, thresh=threshold)\n",
    "\n",
    "# Impute missing values using median\n",
    "imputer = SimpleImputer(strategy='median')\n",
    "input_data_imputed = imputer.fit_transform(input_data)\n",
    "\n",
    "# Split data into training and testing sets (80% training, 20% testing)\n",
    "X_train, X_test, y_train, y_test = train_test_split(input_data_imputed, target_data, test_size=0.2, random_state=42)\n",
    "\n",
    "X_train.shape, X_test.shape, y_train.shape, y_test.shape"
   ]
  },
  {
   "cell_type": "code",
   "execution_count": 6,
   "id": "750f9493-a8d3-49df-aeaf-58515ea3eecb",
   "metadata": {},
   "outputs": [
    {
     "data": {
      "text/plain": [
       "Index(['GSE_X', 'GSE_Y', 'GSE_Z', 'CUADRADO', 'RAW_16', 'RAW_17', 'RAW_18',\n",
       "       'RAW_19', 'RAW_20', 'RAW_21', 'RAW_22', 'RAW_23', 'RAW_24'],\n",
       "      dtype='object')"
      ]
     },
     "execution_count": 6,
     "metadata": {},
     "output_type": "execute_result"
    }
   ],
   "source": [
    "# Left over columns (To be used on training data)\n",
    "input_data.columns"
   ]
  },
  {
   "cell_type": "code",
   "execution_count": 7,
   "id": "0f73e1fd-6024-46e8-ae89-67c06f5d9834",
   "metadata": {},
   "outputs": [
    {
     "data": {
      "text/plain": [
       "array([1.07019034])"
      ]
     },
     "execution_count": 7,
     "metadata": {},
     "output_type": "execute_result"
    }
   ],
   "source": [
    "from sklearn.linear_model import LinearRegression\n",
    "from sklearn.metrics import mean_squared_error\n",
    "\n",
    "# Initialize the linear regression model\n",
    "lr_model = LinearRegression()\n",
    "\n",
    "# Train the model\n",
    "lr_model.fit(X_train, y_train)\n",
    "\n",
    "# Predict on test set\n",
    "lr_predictions = lr_model.predict(X_test)\n",
    "\n",
    "# Calculate MSE for each target column\n",
    "lr_mse = mean_squared_error(y_test, lr_predictions, multioutput='raw_values')\n",
    "\n",
    "lr_mse"
   ]
  },
  {
   "cell_type": "code",
   "execution_count": 8,
   "id": "410ce78e-5ac9-4565-b002-eee569378b80",
   "metadata": {},
   "outputs": [
    {
     "data": {
      "text/plain": [
       "array([0.55748592])"
      ]
     },
     "execution_count": 8,
     "metadata": {},
     "output_type": "execute_result"
    }
   ],
   "source": [
    "from sklearn.tree import DecisionTreeRegressor\n",
    "\n",
    "# Initialize the decision tree regressor\n",
    "dt_model = DecisionTreeRegressor(random_state=42)\n",
    "\n",
    "# Train the model\n",
    "dt_model.fit(X_train, y_train)\n",
    "\n",
    "# Predict on test set\n",
    "dt_predictions = dt_model.predict(X_test)\n",
    "\n",
    "# Calculate MSE for each target column\n",
    "dt_mse = mean_squared_error(y_test, dt_predictions, multioutput='raw_values')\n",
    "\n",
    "dt_mse"
   ]
  },
  {
   "cell_type": "code",
   "execution_count": 14,
   "id": "ffa00132-2c90-4a75-ba99-3ad02ce97cf6",
   "metadata": {},
   "outputs": [
    {
     "data": {
      "text/plain": [
       "['BUCKET/output/lr_model.joblib']"
      ]
     },
     "execution_count": 14,
     "metadata": {},
     "output_type": "execute_result"
    }
   ],
   "source": [
    "# Save models\n",
    "from joblib import dump, load\n",
    "dump(dt_model, 'BUCKET/output/dt_model.joblib') \n",
    "dump(lr_model, 'BUCKET/output/lr_model.joblib') "
   ]
  },
  {
   "cell_type": "code",
   "execution_count": 6,
   "id": "72d7b95e-0531-49bd-9a31-6b77d7379e75",
   "metadata": {},
   "outputs": [],
   "source": [
    "# Load Models\n",
    "from joblib import dump, load\n",
    "dt_model = load('BUCKET/output/dt_model.joblib') \n",
    "lr_model = load('BUCKET/output/lr_model.joblib')"
   ]
  },
  {
   "cell_type": "code",
   "execution_count": 12,
   "id": "64a8b647-4bb3-487b-a5e5-ef80ed8cf8c9",
   "metadata": {},
   "outputs": [],
   "source": [
    "from scipy.optimize import minimize\n",
    "\n",
    "# Define a function to compute the ensemble predictions and the corresponding MSE\n",
    "def ensemble_mse(weight, y_preds, y_true):\n",
    "    weight_lr = weight[0]\n",
    "    weight_dt = 1 - weight_lr\n",
    "    y_pred_ensemble = weight_lr * y_preds[0] + weight_dt * y_preds[1]\n",
    "    return mean_squared_error(y_true, y_pred_ensemble)"
   ]
  },
  {
   "cell_type": "code",
   "execution_count": null,
   "id": "a198c5bf-7f15-4f89-af74-14c674fd3d57",
   "metadata": {},
   "outputs": [],
   "source": [
    "# Pack the predictions of both models into a list\n",
    "y_preds = [lr_predictions, dt_predictions]\n",
    "\n",
    "# Use the minimize function to find the optimal weight\n",
    "result = minimize(fun=ensemble_mse, x0=[0.5], args=(y_preds, y_test), bounds=[(0, 1)])\n",
    "\n",
    "# Extract the optimal weight from the result\n",
    "optimal_weight_lr = result.x[0]\n",
    "optimal_weight_dt = 1 - optimal_weight_lr\n",
    "\n",
    "optimal_weight_lr, optimal_weight_dt"
   ]
  },
  {
   "cell_type": "code",
   "execution_count": 13,
   "id": "0b60b229-4da4-4979-b327-05e4f7992345",
   "metadata": {},
   "outputs": [
    {
     "data": {
      "text/plain": [
       "(0.8840601312708873, 0.29618156044332355)"
      ]
     },
     "execution_count": 13,
     "metadata": {},
     "output_type": "execute_result"
    }
   ],
   "source": [
    "from sklearn.metrics import mean_absolute_error\n",
    "\n",
    "# Calculate the MAE for each model\n",
    "lr_mae = mean_absolute_error(y_test, lr_predictions)\n",
    "dt_mae = mean_absolute_error(y_test, dt_predictions)\n",
    "\n",
    "lr_mae, dt_mae"
   ]
  }
 ],
 "metadata": {
  "environment": {
   "kernel": "python3",
   "name": "pytorch-gpu.2-0.m112",
   "type": "gcloud",
   "uri": "gcr.io/deeplearning-platform-release/pytorch-gpu.2-0:m112"
  },
  "kernelspec": {
   "display_name": "Python 3",
   "language": "python",
   "name": "python3"
  },
  "language_info": {
   "codemirror_mode": {
    "name": "ipython",
    "version": 3
   },
   "file_extension": ".py",
   "mimetype": "text/x-python",
   "name": "python",
   "nbconvert_exporter": "python",
   "pygments_lexer": "ipython3",
   "version": "3.10.12"
  }
 },
 "nbformat": 4,
 "nbformat_minor": 5
}
